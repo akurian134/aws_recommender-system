{
 "cells": [
  {
   "cell_type": "markdown",
   "id": "b554dffe",
   "metadata": {},
   "source": [
    "Parameters - S3 Bucket, regions, etc. "
   ]
  },
  {
   "cell_type": "code",
   "execution_count": null,
   "id": "bf0a3139",
   "metadata": {},
   "outputs": [],
   "source": [
    "# Importing necessary libraries \n",
    "import time \n",
    "import numpy as np\n",
    "import pandas as pd\n",
    "import json\n",
    "import matplotlib.pyplot as plt\n",
    "import boto3\n",
    "import botocore\n",
    "import sagemaker\n",
    "from sagemaker import get_execution_role\n",
    "from boto3 import client\n",
    "import os \n",
    "\n",
    "class ObtainData:\n",
    "    # Class containing functions to download and recieve data\n",
    "    age = 10"
   ]
  }
 ],
 "metadata": {
  "kernelspec": {
   "display_name": "conda_python3",
   "language": "python",
   "name": "conda_python3"
  },
  "language_info": {
   "codemirror_mode": {
    "name": "ipython",
    "version": 3
   },
   "file_extension": ".py",
   "mimetype": "text/x-python",
   "name": "python",
   "nbconvert_exporter": "python",
   "pygments_lexer": "ipython3",
   "version": "3.6.13"
  }
 },
 "nbformat": 4,
 "nbformat_minor": 5
}
