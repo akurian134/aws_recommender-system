{
 "cells": [
  {
   "cell_type": "markdown",
   "id": "dae1a4d3",
   "metadata": {},
   "source": [
    "Parameters - S3 Bucket, regions, etc. "
   ]
  },
  {
   "cell_type": "code",
   "execution_count": null,
   "id": "1c4164c1",
   "metadata": {},
   "outputs": [],
   "source": [
    "bucket = sagemaker.Session().default_bucket()\n",
    "prefix = 'sagemaker/DeepAR'\n",
    "execution_role = sagemaker.get_execution_role()\n",
    "region=boto3.Session().region_name"
   ]
  }
 ],
 "metadata": {
  "kernelspec": {
   "display_name": "conda_python3",
   "language": "python",
   "name": "conda_python3"
  },
  "language_info": {
   "codemirror_mode": {
    "name": "ipython",
    "version": 3
   },
   "file_extension": ".py",
   "mimetype": "text/x-python",
   "name": "python",
   "nbconvert_exporter": "python",
   "pygments_lexer": "ipython3",
   "version": "3.6.13"
  }
 },
 "nbformat": 4,
 "nbformat_minor": 5
}
